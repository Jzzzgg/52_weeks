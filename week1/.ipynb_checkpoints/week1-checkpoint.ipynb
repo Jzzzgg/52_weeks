{
 "cells": [
  {
   "cell_type": "code",
   "execution_count": 1,
   "id": "bf383f51-f888-4080-86e3-6ee45e1ec1a1",
   "metadata": {},
   "outputs": [],
   "source": [
    "import pandas as pd"
   ]
  },
  {
   "cell_type": "code",
   "execution_count": 2,
   "id": "e332b033-676b-4b7a-8828-208a80788b76",
   "metadata": {},
   "outputs": [],
   "source": [
    "df = pd.read_csv(\"LI_BUILDING_FOOTPRINTS.csv\")"
   ]
  },
  {
   "cell_type": "code",
   "execution_count": 3,
   "id": "f343ac2d-9b09-4b3d-bb0d-5b482399e657",
   "metadata": {},
   "outputs": [
    {
     "data": {
      "text/html": [
       "<div>\n",
       "<style scoped>\n",
       "    .dataframe tbody tr th:only-of-type {\n",
       "        vertical-align: middle;\n",
       "    }\n",
       "\n",
       "    .dataframe tbody tr th {\n",
       "        vertical-align: top;\n",
       "    }\n",
       "\n",
       "    .dataframe thead th {\n",
       "        text-align: right;\n",
       "    }\n",
       "</style>\n",
       "<table border=\"1\" class=\"dataframe\">\n",
       "  <thead>\n",
       "    <tr style=\"text-align: right;\">\n",
       "      <th></th>\n",
       "      <th>OBJECTID</th>\n",
       "      <th>BIN</th>\n",
       "      <th>FCODE</th>\n",
       "      <th>BASE_ELEVATION</th>\n",
       "      <th>APPROX_HGT</th>\n",
       "      <th>MAX_HGT</th>\n",
       "      <th>DOR_ALTERNATE_ADDR</th>\n",
       "      <th>SQUARE_FT</th>\n",
       "      <th>Shape__Area</th>\n",
       "      <th>Shape__Length</th>\n",
       "    </tr>\n",
       "  </thead>\n",
       "  <tbody>\n",
       "    <tr>\n",
       "      <th>count</th>\n",
       "      <td>545784.000000</td>\n",
       "      <td>5.457840e+05</td>\n",
       "      <td>545784.000000</td>\n",
       "      <td>545784.000000</td>\n",
       "      <td>537572.000000</td>\n",
       "      <td>538553.000000</td>\n",
       "      <td>0.0</td>\n",
       "      <td>5.452510e+05</td>\n",
       "      <td>545784.000000</td>\n",
       "      <td>545784.000000</td>\n",
       "    </tr>\n",
       "    <tr>\n",
       "      <th>mean</th>\n",
       "      <td>272892.500000</td>\n",
       "      <td>1.278614e+06</td>\n",
       "      <td>1807.657626</td>\n",
       "      <td>111.164245</td>\n",
       "      <td>25.612141</td>\n",
       "      <td>30.754792</td>\n",
       "      <td>NaN</td>\n",
       "      <td>1.383852e+03</td>\n",
       "      <td>220.216069</td>\n",
       "      <td>60.799570</td>\n",
       "    </tr>\n",
       "    <tr>\n",
       "      <th>std</th>\n",
       "      <td>157554.413996</td>\n",
       "      <td>1.727783e+05</td>\n",
       "      <td>65.102802</td>\n",
       "      <td>84.184668</td>\n",
       "      <td>9.277084</td>\n",
       "      <td>11.366928</td>\n",
       "      <td>NaN</td>\n",
       "      <td>1.062296e+04</td>\n",
       "      <td>1696.361127</td>\n",
       "      <td>57.768222</td>\n",
       "    </tr>\n",
       "    <tr>\n",
       "      <th>min</th>\n",
       "      <td>1.000000</td>\n",
       "      <td>1.000001e+06</td>\n",
       "      <td>0.000000</td>\n",
       "      <td>-38.250000</td>\n",
       "      <td>-20.000000</td>\n",
       "      <td>0.000000</td>\n",
       "      <td>NaN</td>\n",
       "      <td>0.000000e+00</td>\n",
       "      <td>0.000000</td>\n",
       "      <td>0.393782</td>\n",
       "    </tr>\n",
       "    <tr>\n",
       "      <th>25%</th>\n",
       "      <td>136446.750000</td>\n",
       "      <td>1.138911e+06</td>\n",
       "      <td>1810.000000</td>\n",
       "      <td>42.100000</td>\n",
       "      <td>20.000000</td>\n",
       "      <td>27.000000</td>\n",
       "      <td>NaN</td>\n",
       "      <td>6.430000e+02</td>\n",
       "      <td>101.902344</td>\n",
       "      <td>46.770115</td>\n",
       "    </tr>\n",
       "    <tr>\n",
       "      <th>50%</th>\n",
       "      <td>272892.500000</td>\n",
       "      <td>1.276162e+06</td>\n",
       "      <td>1810.000000</td>\n",
       "      <td>96.900000</td>\n",
       "      <td>30.000000</td>\n",
       "      <td>30.000000</td>\n",
       "      <td>NaN</td>\n",
       "      <td>7.990000e+02</td>\n",
       "      <td>126.644531</td>\n",
       "      <td>54.685642</td>\n",
       "    </tr>\n",
       "    <tr>\n",
       "      <th>75%</th>\n",
       "      <td>409338.250000</td>\n",
       "      <td>1.413532e+06</td>\n",
       "      <td>1810.000000</td>\n",
       "      <td>137.300000</td>\n",
       "      <td>30.000000</td>\n",
       "      <td>34.000000</td>\n",
       "      <td>NaN</td>\n",
       "      <td>1.033000e+03</td>\n",
       "      <td>163.882812</td>\n",
       "      <td>63.585340</td>\n",
       "    </tr>\n",
       "    <tr>\n",
       "      <th>max</th>\n",
       "      <td>545784.000000</td>\n",
       "      <td>3.998147e+06</td>\n",
       "      <td>1830.000000</td>\n",
       "      <td>446.200000</td>\n",
       "      <td>700.000000</td>\n",
       "      <td>982.000000</td>\n",
       "      <td>NaN</td>\n",
       "      <td>4.604479e+06</td>\n",
       "      <td>727746.601562</td>\n",
       "      <td>20052.946587</td>\n",
       "    </tr>\n",
       "  </tbody>\n",
       "</table>\n",
       "</div>"
      ],
      "text/plain": [
       "            OBJECTID           BIN          FCODE  BASE_ELEVATION  \\\n",
       "count  545784.000000  5.457840e+05  545784.000000   545784.000000   \n",
       "mean   272892.500000  1.278614e+06    1807.657626      111.164245   \n",
       "std    157554.413996  1.727783e+05      65.102802       84.184668   \n",
       "min         1.000000  1.000001e+06       0.000000      -38.250000   \n",
       "25%    136446.750000  1.138911e+06    1810.000000       42.100000   \n",
       "50%    272892.500000  1.276162e+06    1810.000000       96.900000   \n",
       "75%    409338.250000  1.413532e+06    1810.000000      137.300000   \n",
       "max    545784.000000  3.998147e+06    1830.000000      446.200000   \n",
       "\n",
       "          APPROX_HGT        MAX_HGT  DOR_ALTERNATE_ADDR     SQUARE_FT  \\\n",
       "count  537572.000000  538553.000000                 0.0  5.452510e+05   \n",
       "mean       25.612141      30.754792                 NaN  1.383852e+03   \n",
       "std         9.277084      11.366928                 NaN  1.062296e+04   \n",
       "min       -20.000000       0.000000                 NaN  0.000000e+00   \n",
       "25%        20.000000      27.000000                 NaN  6.430000e+02   \n",
       "50%        30.000000      30.000000                 NaN  7.990000e+02   \n",
       "75%        30.000000      34.000000                 NaN  1.033000e+03   \n",
       "max       700.000000     982.000000                 NaN  4.604479e+06   \n",
       "\n",
       "         Shape__Area  Shape__Length  \n",
       "count  545784.000000  545784.000000  \n",
       "mean      220.216069      60.799570  \n",
       "std      1696.361127      57.768222  \n",
       "min         0.000000       0.393782  \n",
       "25%       101.902344      46.770115  \n",
       "50%       126.644531      54.685642  \n",
       "75%       163.882812      63.585340  \n",
       "max    727746.601562   20052.946587  "
      ]
     },
     "execution_count": 3,
     "metadata": {},
     "output_type": "execute_result"
    }
   ],
   "source": [
    "df.describe()"
   ]
  },
  {
   "cell_type": "code",
   "execution_count": 4,
   "id": "528c62b9-95ed-4fce-b258-8f0228b04d28",
   "metadata": {},
   "outputs": [
    {
     "data": {
      "text/html": [
       "<div>\n",
       "<style scoped>\n",
       "    .dataframe tbody tr th:only-of-type {\n",
       "        vertical-align: middle;\n",
       "    }\n",
       "\n",
       "    .dataframe tbody tr th {\n",
       "        vertical-align: top;\n",
       "    }\n",
       "\n",
       "    .dataframe thead th {\n",
       "        text-align: right;\n",
       "    }\n",
       "</style>\n",
       "<table border=\"1\" class=\"dataframe\">\n",
       "  <thead>\n",
       "    <tr style=\"text-align: right;\">\n",
       "      <th></th>\n",
       "      <th>OBJECTID</th>\n",
       "      <th>BIN</th>\n",
       "      <th>FCODE</th>\n",
       "      <th>ADDRESS</th>\n",
       "      <th>BUILDING_NAME</th>\n",
       "      <th>BASE_ELEVATION</th>\n",
       "      <th>APPROX_HGT</th>\n",
       "      <th>MAX_HGT</th>\n",
       "      <th>PARCEL_ID_NUM</th>\n",
       "      <th>PARCEL_ID_SOURCE</th>\n",
       "      <th>DOR_ALTERNATE_ADDR</th>\n",
       "      <th>SQUARE_FT</th>\n",
       "      <th>Shape__Area</th>\n",
       "      <th>Shape__Length</th>\n",
       "    </tr>\n",
       "  </thead>\n",
       "  <tbody>\n",
       "    <tr>\n",
       "      <th>0</th>\n",
       "      <td>1</td>\n",
       "      <td>1000001</td>\n",
       "      <td>1810</td>\n",
       "      <td>1501 N 18TH ST</td>\n",
       "      <td>NaN</td>\n",
       "      <td>104.2</td>\n",
       "      <td>20.0</td>\n",
       "      <td>28.0</td>\n",
       "      <td>319860</td>\n",
       "      <td>PWD</td>\n",
       "      <td>NaN</td>\n",
       "      <td>617.0</td>\n",
       "      <td>97.761719</td>\n",
       "      <td>40.383631</td>\n",
       "    </tr>\n",
       "    <tr>\n",
       "      <th>1</th>\n",
       "      <td>2</td>\n",
       "      <td>1000002</td>\n",
       "      <td>1810</td>\n",
       "      <td>1501 N 18TH ST</td>\n",
       "      <td>NaN</td>\n",
       "      <td>103.3</td>\n",
       "      <td>20.0</td>\n",
       "      <td>29.0</td>\n",
       "      <td>319860</td>\n",
       "      <td>PWD</td>\n",
       "      <td>NaN</td>\n",
       "      <td>629.0</td>\n",
       "      <td>99.632812</td>\n",
       "      <td>40.691884</td>\n",
       "    </tr>\n",
       "    <tr>\n",
       "      <th>2</th>\n",
       "      <td>3</td>\n",
       "      <td>1000003</td>\n",
       "      <td>1810</td>\n",
       "      <td>1501 N 18TH ST</td>\n",
       "      <td>NaN</td>\n",
       "      <td>103.9</td>\n",
       "      <td>20.0</td>\n",
       "      <td>28.0</td>\n",
       "      <td>319860</td>\n",
       "      <td>PWD</td>\n",
       "      <td>NaN</td>\n",
       "      <td>608.0</td>\n",
       "      <td>96.292969</td>\n",
       "      <td>40.145485</td>\n",
       "    </tr>\n",
       "  </tbody>\n",
       "</table>\n",
       "</div>"
      ],
      "text/plain": [
       "   OBJECTID      BIN  FCODE         ADDRESS BUILDING_NAME  BASE_ELEVATION  \\\n",
       "0         1  1000001   1810  1501 N 18TH ST           NaN           104.2   \n",
       "1         2  1000002   1810  1501 N 18TH ST           NaN           103.3   \n",
       "2         3  1000003   1810  1501 N 18TH ST           NaN           103.9   \n",
       "\n",
       "   APPROX_HGT  MAX_HGT PARCEL_ID_NUM PARCEL_ID_SOURCE  DOR_ALTERNATE_ADDR  \\\n",
       "0        20.0     28.0        319860              PWD                 NaN   \n",
       "1        20.0     29.0        319860              PWD                 NaN   \n",
       "2        20.0     28.0        319860              PWD                 NaN   \n",
       "\n",
       "   SQUARE_FT  Shape__Area  Shape__Length  \n",
       "0      617.0    97.761719      40.383631  \n",
       "1      629.0    99.632812      40.691884  \n",
       "2      608.0    96.292969      40.145485  "
      ]
     },
     "execution_count": 4,
     "metadata": {},
     "output_type": "execute_result"
    }
   ],
   "source": [
    "df.head(3)"
   ]
  },
  {
   "cell_type": "code",
   "execution_count": 5,
   "id": "2dafd2ee-271a-4cfa-be92-bc54eb6d8d13",
   "metadata": {},
   "outputs": [
    {
     "data": {
      "text/plain": [
       "0            97.761719\n",
       "1            99.632812\n",
       "2            96.292969\n",
       "3           217.988281\n",
       "4            98.699219\n",
       "              ...     \n",
       "545779    12880.371094\n",
       "545780     6027.238281\n",
       "545781     5505.914062\n",
       "545782     2751.582031\n",
       "545783    37219.605469\n",
       "Name: Shape__Area, Length: 545784, dtype: float64"
      ]
     },
     "execution_count": 5,
     "metadata": {},
     "output_type": "execute_result"
    }
   ],
   "source": [
    "df[\"Shape__Area\"]"
   ]
  },
  {
   "cell_type": "code",
   "execution_count": 6,
   "id": "814310cd-0357-47c2-ad99-de008fa389d1",
   "metadata": {},
   "outputs": [
    {
     "data": {
      "text/plain": [
       "727746.6015625"
      ]
     },
     "execution_count": 6,
     "metadata": {},
     "output_type": "execute_result"
    }
   ],
   "source": [
    "df[\"Shape__Area\"].max()"
   ]
  },
  {
   "cell_type": "code",
   "execution_count": 8,
   "id": "e6e7396d-4933-45b7-9b21-314dc39befed",
   "metadata": {},
   "outputs": [
    {
     "data": {
      "text/plain": [
       "FCODE\n",
       "0          707\n",
       "1810    545015\n",
       "1830        62\n",
       "Name: Shape__Area, dtype: int64"
      ]
     },
     "execution_count": 8,
     "metadata": {},
     "output_type": "execute_result"
    }
   ],
   "source": [
    "df.groupby(\"FCODE\")[\"Shape__Area\"].count()"
   ]
  },
  {
   "cell_type": "code",
   "execution_count": 9,
   "id": "62c5ae56-9cf5-4d71-9d5e-e220ff3e035a",
   "metadata": {},
   "outputs": [
    {
     "data": {
      "text/plain": [
       "PARCEL_ID_SOURCE\n",
       "DOR       333\n",
       "LI        226\n",
       "PWD    544924\n",
       "Name: Shape__Area, dtype: int64"
      ]
     },
     "execution_count": 9,
     "metadata": {},
     "output_type": "execute_result"
    }
   ],
   "source": [
    "df.groupby(\"PARCEL_ID_SOURCE\")[\"Shape__Area\"].count()"
   ]
  },
  {
   "cell_type": "code",
   "execution_count": 11,
   "id": "d12105b9-777c-40d4-b1c9-87f2b9904a68",
   "metadata": {},
   "outputs": [
    {
     "data": {
      "text/plain": [
       "PARCEL_ID_SOURCE\n",
       "DOR      52112.0\n",
       "LI       61246.0\n",
       "PWD    4604479.0\n",
       "Name: SQUARE_FT, dtype: float64"
      ]
     },
     "execution_count": 11,
     "metadata": {},
     "output_type": "execute_result"
    }
   ],
   "source": [
    "df.groupby(\"PARCEL_ID_SOURCE\")[\"SQUARE_FT\"].max()"
   ]
  },
  {
   "cell_type": "code",
   "execution_count": 12,
   "id": "fd85695f-b041-49bd-a23f-b29bdfc0dd45",
   "metadata": {},
   "outputs": [
    {
     "data": {
      "text/plain": [
       "0    1000001\n",
       "1    1000002\n",
       "2    1000003\n",
       "3    1005345\n",
       "4    1000004\n",
       "Name: BIN, dtype: int64"
      ]
     },
     "execution_count": 12,
     "metadata": {},
     "output_type": "execute_result"
    }
   ],
   "source": [
    "df[\"BIN\"].head()"
   ]
  },
  {
   "cell_type": "code",
   "execution_count": 13,
   "id": "c711a0f4-a526-4c56-a6cb-1652c74b704a",
   "metadata": {},
   "outputs": [
    {
     "data": {
      "text/html": [
       "<div>\n",
       "<style scoped>\n",
       "    .dataframe tbody tr th:only-of-type {\n",
       "        vertical-align: middle;\n",
       "    }\n",
       "\n",
       "    .dataframe tbody tr th {\n",
       "        vertical-align: top;\n",
       "    }\n",
       "\n",
       "    .dataframe thead th {\n",
       "        text-align: right;\n",
       "    }\n",
       "</style>\n",
       "<table border=\"1\" class=\"dataframe\">\n",
       "  <thead>\n",
       "    <tr style=\"text-align: right;\">\n",
       "      <th></th>\n",
       "      <th>BIN</th>\n",
       "      <th>FCODE</th>\n",
       "    </tr>\n",
       "  </thead>\n",
       "  <tbody>\n",
       "    <tr>\n",
       "      <th>0</th>\n",
       "      <td>1000001</td>\n",
       "      <td>1810</td>\n",
       "    </tr>\n",
       "    <tr>\n",
       "      <th>1</th>\n",
       "      <td>1000002</td>\n",
       "      <td>1810</td>\n",
       "    </tr>\n",
       "    <tr>\n",
       "      <th>2</th>\n",
       "      <td>1000003</td>\n",
       "      <td>1810</td>\n",
       "    </tr>\n",
       "    <tr>\n",
       "      <th>3</th>\n",
       "      <td>1005345</td>\n",
       "      <td>1810</td>\n",
       "    </tr>\n",
       "    <tr>\n",
       "      <th>4</th>\n",
       "      <td>1000004</td>\n",
       "      <td>1810</td>\n",
       "    </tr>\n",
       "  </tbody>\n",
       "</table>\n",
       "</div>"
      ],
      "text/plain": [
       "       BIN  FCODE\n",
       "0  1000001   1810\n",
       "1  1000002   1810\n",
       "2  1000003   1810\n",
       "3  1005345   1810\n",
       "4  1000004   1810"
      ]
     },
     "execution_count": 13,
     "metadata": {},
     "output_type": "execute_result"
    }
   ],
   "source": [
    "df[[\"BIN\", \"FCODE\"]].head()"
   ]
  },
  {
   "cell_type": "code",
   "execution_count": 15,
   "id": "21e15e1b-9169-4398-99e4-d812a7b7e363",
   "metadata": {},
   "outputs": [
    {
     "ename": "KeyError",
     "evalue": "'ADDRESS'",
     "output_type": "error",
     "traceback": [
      "\u001b[1;31m---------------------------------------------------------------------------\u001b[0m",
      "\u001b[1;31mKeyError\u001b[0m                                  Traceback (most recent call last)",
      "File \u001b[1;32m~\\anaconda3\\Lib\\site-packages\\pandas\\core\\indexes\\base.py:3791\u001b[0m, in \u001b[0;36mIndex.get_loc\u001b[1;34m(self, key)\u001b[0m\n\u001b[0;32m   3790\u001b[0m \u001b[38;5;28;01mtry\u001b[39;00m:\n\u001b[1;32m-> 3791\u001b[0m     \u001b[38;5;28;01mreturn\u001b[39;00m \u001b[38;5;28mself\u001b[39m\u001b[38;5;241m.\u001b[39m_engine\u001b[38;5;241m.\u001b[39mget_loc(casted_key)\n\u001b[0;32m   3792\u001b[0m \u001b[38;5;28;01mexcept\u001b[39;00m \u001b[38;5;167;01mKeyError\u001b[39;00m \u001b[38;5;28;01mas\u001b[39;00m err:\n",
      "File \u001b[1;32mindex.pyx:152\u001b[0m, in \u001b[0;36mpandas._libs.index.IndexEngine.get_loc\u001b[1;34m()\u001b[0m\n",
      "File \u001b[1;32mindex.pyx:181\u001b[0m, in \u001b[0;36mpandas._libs.index.IndexEngine.get_loc\u001b[1;34m()\u001b[0m\n",
      "File \u001b[1;32mpandas\\_libs\\hashtable_class_helper.pxi:7080\u001b[0m, in \u001b[0;36mpandas._libs.hashtable.PyObjectHashTable.get_item\u001b[1;34m()\u001b[0m\n",
      "File \u001b[1;32mpandas\\_libs\\hashtable_class_helper.pxi:7088\u001b[0m, in \u001b[0;36mpandas._libs.hashtable.PyObjectHashTable.get_item\u001b[1;34m()\u001b[0m\n",
      "\u001b[1;31mKeyError\u001b[0m: 'ADDRESS'",
      "\nThe above exception was the direct cause of the following exception:\n",
      "\u001b[1;31mKeyError\u001b[0m                                  Traceback (most recent call last)",
      "Cell \u001b[1;32mIn[15], line 1\u001b[0m\n\u001b[1;32m----> 1\u001b[0m df\u001b[38;5;241m.\u001b[39mgroupby(\u001b[38;5;124m\"\u001b[39m\u001b[38;5;124mPARCEL_ID_SOURCE\u001b[39m\u001b[38;5;124m\"\u001b[39m)[\u001b[38;5;124m\"\u001b[39m\u001b[38;5;124mSQUARE_FT\u001b[39m\u001b[38;5;124m\"\u001b[39m]\u001b[38;5;241m.\u001b[39mmax()[\u001b[38;5;124m\"\u001b[39m\u001b[38;5;124mADDRESS\u001b[39m\u001b[38;5;124m\"\u001b[39m]\n",
      "File \u001b[1;32m~\\anaconda3\\Lib\\site-packages\\pandas\\core\\series.py:1040\u001b[0m, in \u001b[0;36mSeries.__getitem__\u001b[1;34m(self, key)\u001b[0m\n\u001b[0;32m   1037\u001b[0m     \u001b[38;5;28;01mreturn\u001b[39;00m \u001b[38;5;28mself\u001b[39m\u001b[38;5;241m.\u001b[39m_values[key]\n\u001b[0;32m   1039\u001b[0m \u001b[38;5;28;01melif\u001b[39;00m key_is_scalar:\n\u001b[1;32m-> 1040\u001b[0m     \u001b[38;5;28;01mreturn\u001b[39;00m \u001b[38;5;28mself\u001b[39m\u001b[38;5;241m.\u001b[39m_get_value(key)\n\u001b[0;32m   1042\u001b[0m \u001b[38;5;66;03m# Convert generator to list before going through hashable part\u001b[39;00m\n\u001b[0;32m   1043\u001b[0m \u001b[38;5;66;03m# (We will iterate through the generator there to check for slices)\u001b[39;00m\n\u001b[0;32m   1044\u001b[0m \u001b[38;5;28;01mif\u001b[39;00m is_iterator(key):\n",
      "File \u001b[1;32m~\\anaconda3\\Lib\\site-packages\\pandas\\core\\series.py:1156\u001b[0m, in \u001b[0;36mSeries._get_value\u001b[1;34m(self, label, takeable)\u001b[0m\n\u001b[0;32m   1153\u001b[0m     \u001b[38;5;28;01mreturn\u001b[39;00m \u001b[38;5;28mself\u001b[39m\u001b[38;5;241m.\u001b[39m_values[label]\n\u001b[0;32m   1155\u001b[0m \u001b[38;5;66;03m# Similar to Index.get_value, but we do not fall back to positional\u001b[39;00m\n\u001b[1;32m-> 1156\u001b[0m loc \u001b[38;5;241m=\u001b[39m \u001b[38;5;28mself\u001b[39m\u001b[38;5;241m.\u001b[39mindex\u001b[38;5;241m.\u001b[39mget_loc(label)\n\u001b[0;32m   1158\u001b[0m \u001b[38;5;28;01mif\u001b[39;00m is_integer(loc):\n\u001b[0;32m   1159\u001b[0m     \u001b[38;5;28;01mreturn\u001b[39;00m \u001b[38;5;28mself\u001b[39m\u001b[38;5;241m.\u001b[39m_values[loc]\n",
      "File \u001b[1;32m~\\anaconda3\\Lib\\site-packages\\pandas\\core\\indexes\\base.py:3798\u001b[0m, in \u001b[0;36mIndex.get_loc\u001b[1;34m(self, key)\u001b[0m\n\u001b[0;32m   3793\u001b[0m     \u001b[38;5;28;01mif\u001b[39;00m \u001b[38;5;28misinstance\u001b[39m(casted_key, \u001b[38;5;28mslice\u001b[39m) \u001b[38;5;129;01mor\u001b[39;00m (\n\u001b[0;32m   3794\u001b[0m         \u001b[38;5;28misinstance\u001b[39m(casted_key, abc\u001b[38;5;241m.\u001b[39mIterable)\n\u001b[0;32m   3795\u001b[0m         \u001b[38;5;129;01mand\u001b[39;00m \u001b[38;5;28many\u001b[39m(\u001b[38;5;28misinstance\u001b[39m(x, \u001b[38;5;28mslice\u001b[39m) \u001b[38;5;28;01mfor\u001b[39;00m x \u001b[38;5;129;01min\u001b[39;00m casted_key)\n\u001b[0;32m   3796\u001b[0m     ):\n\u001b[0;32m   3797\u001b[0m         \u001b[38;5;28;01mraise\u001b[39;00m InvalidIndexError(key)\n\u001b[1;32m-> 3798\u001b[0m     \u001b[38;5;28;01mraise\u001b[39;00m \u001b[38;5;167;01mKeyError\u001b[39;00m(key) \u001b[38;5;28;01mfrom\u001b[39;00m \u001b[38;5;21;01merr\u001b[39;00m\n\u001b[0;32m   3799\u001b[0m \u001b[38;5;28;01mexcept\u001b[39;00m \u001b[38;5;167;01mTypeError\u001b[39;00m:\n\u001b[0;32m   3800\u001b[0m     \u001b[38;5;66;03m# If we have a listlike key, _check_indexing_error will raise\u001b[39;00m\n\u001b[0;32m   3801\u001b[0m     \u001b[38;5;66;03m#  InvalidIndexError. Otherwise we fall through and re-raise\u001b[39;00m\n\u001b[0;32m   3802\u001b[0m     \u001b[38;5;66;03m#  the TypeError.\u001b[39;00m\n\u001b[0;32m   3803\u001b[0m     \u001b[38;5;28mself\u001b[39m\u001b[38;5;241m.\u001b[39m_check_indexing_error(key)\n",
      "\u001b[1;31mKeyError\u001b[0m: 'ADDRESS'"
     ]
    }
   ],
   "source": [
    "df.groupby(\"PARCEL_ID_SOURCE\")[\"SQUARE_FT\"].max()[\"ADDRESS\"]"
   ]
  },
  {
   "cell_type": "code",
   "execution_count": 16,
   "id": "dc4e55f2-b17d-4579-95d0-5dec1a56084d",
   "metadata": {},
   "outputs": [],
   "source": [
    "tall_buildings = df[df[\"MAX_HGT\"] > 50]"
   ]
  },
  {
   "cell_type": "code",
   "execution_count": 17,
   "id": "cbb0470e-6690-44d4-a3c9-49ec421bf6be",
   "metadata": {},
   "outputs": [
    {
     "data": {
      "text/html": [
       "<div>\n",
       "<style scoped>\n",
       "    .dataframe tbody tr th:only-of-type {\n",
       "        vertical-align: middle;\n",
       "    }\n",
       "\n",
       "    .dataframe tbody tr th {\n",
       "        vertical-align: top;\n",
       "    }\n",
       "\n",
       "    .dataframe thead th {\n",
       "        text-align: right;\n",
       "    }\n",
       "</style>\n",
       "<table border=\"1\" class=\"dataframe\">\n",
       "  <thead>\n",
       "    <tr style=\"text-align: right;\">\n",
       "      <th></th>\n",
       "      <th>OBJECTID</th>\n",
       "      <th>BIN</th>\n",
       "      <th>FCODE</th>\n",
       "      <th>ADDRESS</th>\n",
       "      <th>BUILDING_NAME</th>\n",
       "      <th>BASE_ELEVATION</th>\n",
       "      <th>APPROX_HGT</th>\n",
       "      <th>MAX_HGT</th>\n",
       "      <th>PARCEL_ID_NUM</th>\n",
       "      <th>PARCEL_ID_SOURCE</th>\n",
       "      <th>DOR_ALTERNATE_ADDR</th>\n",
       "      <th>SQUARE_FT</th>\n",
       "      <th>Shape__Area</th>\n",
       "      <th>Shape__Length</th>\n",
       "    </tr>\n",
       "  </thead>\n",
       "  <tbody>\n",
       "    <tr>\n",
       "      <th>131</th>\n",
       "      <td>132</td>\n",
       "      <td>1005398</td>\n",
       "      <td>1810</td>\n",
       "      <td>1733 W OXFORD ST</td>\n",
       "      <td>NaN</td>\n",
       "      <td>107.8</td>\n",
       "      <td>30.0</td>\n",
       "      <td>54.0</td>\n",
       "      <td>56388</td>\n",
       "      <td>PWD</td>\n",
       "      <td>NaN</td>\n",
       "      <td>929.0</td>\n",
       "      <td>147.128906</td>\n",
       "      <td>60.281856</td>\n",
       "    </tr>\n",
       "    <tr>\n",
       "      <th>169</th>\n",
       "      <td>170</td>\n",
       "      <td>1000101</td>\n",
       "      <td>1810</td>\n",
       "      <td>1733 W MONTGOMERY AVE</td>\n",
       "      <td>NaN</td>\n",
       "      <td>104.9</td>\n",
       "      <td>50.0</td>\n",
       "      <td>51.0</td>\n",
       "      <td>146250</td>\n",
       "      <td>PWD</td>\n",
       "      <td>NaN</td>\n",
       "      <td>1306.0</td>\n",
       "      <td>206.929688</td>\n",
       "      <td>79.380518</td>\n",
       "    </tr>\n",
       "    <tr>\n",
       "      <th>349</th>\n",
       "      <td>350</td>\n",
       "      <td>1000797</td>\n",
       "      <td>1810</td>\n",
       "      <td>1801-35 N BROAD ST</td>\n",
       "      <td>Sullivan Hall</td>\n",
       "      <td>88.6</td>\n",
       "      <td>60.0</td>\n",
       "      <td>81.0</td>\n",
       "      <td>537302</td>\n",
       "      <td>PWD</td>\n",
       "      <td>NaN</td>\n",
       "      <td>13229.0</td>\n",
       "      <td>2095.683594</td>\n",
       "      <td>193.430493</td>\n",
       "    </tr>\n",
       "    <tr>\n",
       "      <th>351</th>\n",
       "      <td>352</td>\n",
       "      <td>1000798</td>\n",
       "      <td>1810</td>\n",
       "      <td>1501-09 N 20TH ST</td>\n",
       "      <td>New Mt Zion Pentecostal</td>\n",
       "      <td>110.7</td>\n",
       "      <td>50.0</td>\n",
       "      <td>81.0</td>\n",
       "      <td>123585</td>\n",
       "      <td>PWD</td>\n",
       "      <td>NaN</td>\n",
       "      <td>5565.0</td>\n",
       "      <td>881.496094</td>\n",
       "      <td>130.120162</td>\n",
       "    </tr>\n",
       "    <tr>\n",
       "      <th>519</th>\n",
       "      <td>520</td>\n",
       "      <td>1000272</td>\n",
       "      <td>1810</td>\n",
       "      <td>2240-48 N BROAD ST</td>\n",
       "      <td>Uptown Theater</td>\n",
       "      <td>82.2</td>\n",
       "      <td>50.0</td>\n",
       "      <td>106.0</td>\n",
       "      <td>95185</td>\n",
       "      <td>PWD</td>\n",
       "      <td>NaN</td>\n",
       "      <td>15660.0</td>\n",
       "      <td>2481.218750</td>\n",
       "      <td>230.812408</td>\n",
       "    </tr>\n",
       "  </tbody>\n",
       "</table>\n",
       "</div>"
      ],
      "text/plain": [
       "     OBJECTID      BIN  FCODE                ADDRESS            BUILDING_NAME  \\\n",
       "131       132  1005398   1810       1733 W OXFORD ST                      NaN   \n",
       "169       170  1000101   1810  1733 W MONTGOMERY AVE                      NaN   \n",
       "349       350  1000797   1810     1801-35 N BROAD ST            Sullivan Hall   \n",
       "351       352  1000798   1810      1501-09 N 20TH ST  New Mt Zion Pentecostal   \n",
       "519       520  1000272   1810     2240-48 N BROAD ST           Uptown Theater   \n",
       "\n",
       "     BASE_ELEVATION  APPROX_HGT  MAX_HGT PARCEL_ID_NUM PARCEL_ID_SOURCE  \\\n",
       "131           107.8        30.0     54.0         56388              PWD   \n",
       "169           104.9        50.0     51.0        146250              PWD   \n",
       "349            88.6        60.0     81.0        537302              PWD   \n",
       "351           110.7        50.0     81.0        123585              PWD   \n",
       "519            82.2        50.0    106.0         95185              PWD   \n",
       "\n",
       "     DOR_ALTERNATE_ADDR  SQUARE_FT  Shape__Area  Shape__Length  \n",
       "131                 NaN      929.0   147.128906      60.281856  \n",
       "169                 NaN     1306.0   206.929688      79.380518  \n",
       "349                 NaN    13229.0  2095.683594     193.430493  \n",
       "351                 NaN     5565.0   881.496094     130.120162  \n",
       "519                 NaN    15660.0  2481.218750     230.812408  "
      ]
     },
     "execution_count": 17,
     "metadata": {},
     "output_type": "execute_result"
    }
   ],
   "source": [
    "tall_buildings.head()"
   ]
  },
  {
   "cell_type": "code",
   "execution_count": 18,
   "id": "67c947a2-19e4-47c3-ba8d-b9fb4292e7be",
   "metadata": {},
   "outputs": [],
   "source": [
    "df[\"Estimated_Volume\"] = df[\"Shape__Area\"] * df[\"MAX_HGT\"]"
   ]
  },
  {
   "cell_type": "code",
   "execution_count": 19,
   "id": "5e042718-b8b6-45a4-8c69-6393671f2d6e",
   "metadata": {},
   "outputs": [
    {
     "data": {
      "text/plain": [
       "0    2737.328125\n",
       "1    2889.351562\n",
       "2    2696.203125\n",
       "3    5449.707031\n",
       "4    2763.578125\n",
       "Name: Estimated_Volume, dtype: float64"
      ]
     },
     "execution_count": 19,
     "metadata": {},
     "output_type": "execute_result"
    }
   ],
   "source": [
    "df[\"Estimated_Volume\"].head()"
   ]
  },
  {
   "cell_type": "code",
   "execution_count": 20,
   "id": "92489b04-9172-4e4e-acf0-10de6747b606",
   "metadata": {},
   "outputs": [
    {
     "data": {
      "text/html": [
       "<div>\n",
       "<style scoped>\n",
       "    .dataframe tbody tr th:only-of-type {\n",
       "        vertical-align: middle;\n",
       "    }\n",
       "\n",
       "    .dataframe tbody tr th {\n",
       "        vertical-align: top;\n",
       "    }\n",
       "\n",
       "    .dataframe thead th {\n",
       "        text-align: right;\n",
       "    }\n",
       "</style>\n",
       "<table border=\"1\" class=\"dataframe\">\n",
       "  <thead>\n",
       "    <tr style=\"text-align: right;\">\n",
       "      <th></th>\n",
       "      <th>OBJECTID</th>\n",
       "      <th>BIN</th>\n",
       "      <th>FCODE</th>\n",
       "      <th>ADDRESS</th>\n",
       "      <th>BUILDING_NAME</th>\n",
       "      <th>BASE_ELEVATION</th>\n",
       "      <th>APPROX_HGT</th>\n",
       "      <th>MAX_HGT</th>\n",
       "      <th>PARCEL_ID_NUM</th>\n",
       "      <th>PARCEL_ID_SOURCE</th>\n",
       "      <th>DOR_ALTERNATE_ADDR</th>\n",
       "      <th>SQUARE_FT</th>\n",
       "      <th>Shape__Area</th>\n",
       "      <th>Shape__Length</th>\n",
       "      <th>Estimated_Volume</th>\n",
       "    </tr>\n",
       "  </thead>\n",
       "  <tbody>\n",
       "    <tr>\n",
       "      <th>0</th>\n",
       "      <td>1</td>\n",
       "      <td>1000001</td>\n",
       "      <td>1810</td>\n",
       "      <td>1501 N 18TH ST</td>\n",
       "      <td>NaN</td>\n",
       "      <td>104.2</td>\n",
       "      <td>20.0</td>\n",
       "      <td>28.0</td>\n",
       "      <td>319860</td>\n",
       "      <td>PWD</td>\n",
       "      <td>NaN</td>\n",
       "      <td>617.0</td>\n",
       "      <td>97.761719</td>\n",
       "      <td>40.383631</td>\n",
       "      <td>2737.328125</td>\n",
       "    </tr>\n",
       "    <tr>\n",
       "      <th>1</th>\n",
       "      <td>2</td>\n",
       "      <td>1000002</td>\n",
       "      <td>1810</td>\n",
       "      <td>1501 N 18TH ST</td>\n",
       "      <td>NaN</td>\n",
       "      <td>103.3</td>\n",
       "      <td>20.0</td>\n",
       "      <td>29.0</td>\n",
       "      <td>319860</td>\n",
       "      <td>PWD</td>\n",
       "      <td>NaN</td>\n",
       "      <td>629.0</td>\n",
       "      <td>99.632812</td>\n",
       "      <td>40.691884</td>\n",
       "      <td>2889.351562</td>\n",
       "    </tr>\n",
       "    <tr>\n",
       "      <th>2</th>\n",
       "      <td>3</td>\n",
       "      <td>1000003</td>\n",
       "      <td>1810</td>\n",
       "      <td>1501 N 18TH ST</td>\n",
       "      <td>NaN</td>\n",
       "      <td>103.9</td>\n",
       "      <td>20.0</td>\n",
       "      <td>28.0</td>\n",
       "      <td>319860</td>\n",
       "      <td>PWD</td>\n",
       "      <td>NaN</td>\n",
       "      <td>608.0</td>\n",
       "      <td>96.292969</td>\n",
       "      <td>40.145485</td>\n",
       "      <td>2696.203125</td>\n",
       "    </tr>\n",
       "    <tr>\n",
       "      <th>3</th>\n",
       "      <td>4</td>\n",
       "      <td>1005345</td>\n",
       "      <td>1810</td>\n",
       "      <td>3226 W PENN ST</td>\n",
       "      <td>NaN</td>\n",
       "      <td>220.2</td>\n",
       "      <td>20.0</td>\n",
       "      <td>25.0</td>\n",
       "      <td>515802</td>\n",
       "      <td>PWD</td>\n",
       "      <td>NaN</td>\n",
       "      <td>1375.0</td>\n",
       "      <td>217.988281</td>\n",
       "      <td>66.111953</td>\n",
       "      <td>5449.707031</td>\n",
       "    </tr>\n",
       "    <tr>\n",
       "      <th>4</th>\n",
       "      <td>5</td>\n",
       "      <td>1000004</td>\n",
       "      <td>1810</td>\n",
       "      <td>1501 N 18TH ST</td>\n",
       "      <td>NaN</td>\n",
       "      <td>103.6</td>\n",
       "      <td>20.0</td>\n",
       "      <td>28.0</td>\n",
       "      <td>319860</td>\n",
       "      <td>PWD</td>\n",
       "      <td>NaN</td>\n",
       "      <td>623.0</td>\n",
       "      <td>98.699219</td>\n",
       "      <td>40.543015</td>\n",
       "      <td>2763.578125</td>\n",
       "    </tr>\n",
       "  </tbody>\n",
       "</table>\n",
       "</div>"
      ],
      "text/plain": [
       "   OBJECTID      BIN  FCODE         ADDRESS BUILDING_NAME  BASE_ELEVATION  \\\n",
       "0         1  1000001   1810  1501 N 18TH ST           NaN           104.2   \n",
       "1         2  1000002   1810  1501 N 18TH ST           NaN           103.3   \n",
       "2         3  1000003   1810  1501 N 18TH ST           NaN           103.9   \n",
       "3         4  1005345   1810  3226 W PENN ST           NaN           220.2   \n",
       "4         5  1000004   1810  1501 N 18TH ST           NaN           103.6   \n",
       "\n",
       "   APPROX_HGT  MAX_HGT PARCEL_ID_NUM PARCEL_ID_SOURCE  DOR_ALTERNATE_ADDR  \\\n",
       "0        20.0     28.0        319860              PWD                 NaN   \n",
       "1        20.0     29.0        319860              PWD                 NaN   \n",
       "2        20.0     28.0        319860              PWD                 NaN   \n",
       "3        20.0     25.0        515802              PWD                 NaN   \n",
       "4        20.0     28.0        319860              PWD                 NaN   \n",
       "\n",
       "   SQUARE_FT  Shape__Area  Shape__Length  Estimated_Volume  \n",
       "0      617.0    97.761719      40.383631       2737.328125  \n",
       "1      629.0    99.632812      40.691884       2889.351562  \n",
       "2      608.0    96.292969      40.145485       2696.203125  \n",
       "3     1375.0   217.988281      66.111953       5449.707031  \n",
       "4      623.0    98.699219      40.543015       2763.578125  "
      ]
     },
     "execution_count": 20,
     "metadata": {},
     "output_type": "execute_result"
    }
   ],
   "source": [
    "df.head()"
   ]
  },
  {
   "cell_type": "code",
   "execution_count": 21,
   "id": "cceff5e7-0bf7-4462-abe8-56f8a22d7351",
   "metadata": {},
   "outputs": [],
   "source": [
    "avg_height = df.groupby(\"FCODE\")[\"MAX_HGT\"].mean()"
   ]
  },
  {
   "cell_type": "code",
   "execution_count": 22,
   "id": "3837bf75-c984-4261-b7ca-08c9365ca7b3",
   "metadata": {},
   "outputs": [
    {
     "data": {
      "text/plain": [
       "FCODE\n",
       "0       56.451613\n",
       "1810    30.740552\n",
       "1830    82.285714\n",
       "Name: MAX_HGT, dtype: float64"
      ]
     },
     "execution_count": 22,
     "metadata": {},
     "output_type": "execute_result"
    }
   ],
   "source": [
    "avg_height"
   ]
  },
  {
   "cell_type": "code",
   "execution_count": 24,
   "id": "6bf3efc5-d471-4bde-8848-c0c93259c853",
   "metadata": {},
   "outputs": [
    {
     "data": {
      "text/html": [
       "<div>\n",
       "<style scoped>\n",
       "    .dataframe tbody tr th:only-of-type {\n",
       "        vertical-align: middle;\n",
       "    }\n",
       "\n",
       "    .dataframe tbody tr th {\n",
       "        vertical-align: top;\n",
       "    }\n",
       "\n",
       "    .dataframe thead th {\n",
       "        text-align: right;\n",
       "    }\n",
       "</style>\n",
       "<table border=\"1\" class=\"dataframe\">\n",
       "  <thead>\n",
       "    <tr style=\"text-align: right;\">\n",
       "      <th></th>\n",
       "      <th>ADDRESS</th>\n",
       "      <th>SQUARE_FT</th>\n",
       "    </tr>\n",
       "    <tr>\n",
       "      <th>PARCEL_ID_SOURCE</th>\n",
       "      <th></th>\n",
       "      <th></th>\n",
       "    </tr>\n",
       "  </thead>\n",
       "  <tbody>\n",
       "    <tr>\n",
       "      <th>DOR</th>\n",
       "      <td>NaN</td>\n",
       "      <td>52112.0</td>\n",
       "    </tr>\n",
       "    <tr>\n",
       "      <th>LI</th>\n",
       "      <td>5201 PARKSIDE AVE</td>\n",
       "      <td>61246.0</td>\n",
       "    </tr>\n",
       "    <tr>\n",
       "      <th>PWD</th>\n",
       "      <td>3117 S CHRISTOPHER COLUMBUS BLVD</td>\n",
       "      <td>4604479.0</td>\n",
       "    </tr>\n",
       "  </tbody>\n",
       "</table>\n",
       "</div>"
      ],
      "text/plain": [
       "                                           ADDRESS  SQUARE_FT\n",
       "PARCEL_ID_SOURCE                                             \n",
       "DOR                                            NaN    52112.0\n",
       "LI                               5201 PARKSIDE AVE    61246.0\n",
       "PWD               3117 S CHRISTOPHER COLUMBUS BLVD  4604479.0"
      ]
     },
     "execution_count": 24,
     "metadata": {},
     "output_type": "execute_result"
    }
   ],
   "source": [
    "df.groupby(\"PARCEL_ID_SOURCE\").apply(\n",
    "    lambda g: g.loc[g[\"SQUARE_FT\"].idxmax(), [\"ADDRESS\", \"SQUARE_FT\"]]\n",
    ")"
   ]
  },
  {
   "cell_type": "code",
   "execution_count": 28,
   "id": "3912585f-4b22-4983-84ee-c34dadd491aa",
   "metadata": {},
   "outputs": [
    {
     "data": {
      "text/html": [
       "<div>\n",
       "<style scoped>\n",
       "    .dataframe tbody tr th:only-of-type {\n",
       "        vertical-align: middle;\n",
       "    }\n",
       "\n",
       "    .dataframe tbody tr th {\n",
       "        vertical-align: top;\n",
       "    }\n",
       "\n",
       "    .dataframe thead th {\n",
       "        text-align: right;\n",
       "    }\n",
       "</style>\n",
       "<table border=\"1\" class=\"dataframe\">\n",
       "  <thead>\n",
       "    <tr style=\"text-align: right;\">\n",
       "      <th></th>\n",
       "      <th>PARCEL_ID_SOURCE</th>\n",
       "      <th>SQUARE_FT</th>\n",
       "      <th>ADDRESS</th>\n",
       "    </tr>\n",
       "  </thead>\n",
       "  <tbody>\n",
       "    <tr>\n",
       "      <th>469018</th>\n",
       "      <td>DOR</td>\n",
       "      <td>52112.0</td>\n",
       "      <td>NaN</td>\n",
       "    </tr>\n",
       "    <tr>\n",
       "      <th>532665</th>\n",
       "      <td>LI</td>\n",
       "      <td>61246.0</td>\n",
       "      <td>5201 PARKSIDE AVE</td>\n",
       "    </tr>\n",
       "    <tr>\n",
       "      <th>8081</th>\n",
       "      <td>PWD</td>\n",
       "      <td>4604479.0</td>\n",
       "      <td>3117 S CHRISTOPHER COLUMBUS BLVD</td>\n",
       "    </tr>\n",
       "  </tbody>\n",
       "</table>\n",
       "</div>"
      ],
      "text/plain": [
       "       PARCEL_ID_SOURCE  SQUARE_FT                           ADDRESS\n",
       "469018              DOR    52112.0                               NaN\n",
       "532665               LI    61246.0                 5201 PARKSIDE AVE\n",
       "8081                PWD  4604479.0  3117 S CHRISTOPHER COLUMBUS BLVD"
      ]
     },
     "execution_count": 28,
     "metadata": {},
     "output_type": "execute_result"
    }
   ],
   "source": [
    "df.loc[df.groupby(\"PARCEL_ID_SOURCE\")[\"SQUARE_FT\"].idxmax(), \n",
    "       [\"PARCEL_ID_SOURCE\", \"SQUARE_FT\", \"ADDRESS\"]]"
   ]
  },
  {
   "cell_type": "code",
   "execution_count": 29,
   "id": "6d2c4d83-a480-4bb7-b89b-7ecfe8854c40",
   "metadata": {},
   "outputs": [
    {
     "data": {
      "text/plain": [
       "PARCEL_ID_SOURCE\n",
       "DOR      52112.0\n",
       "LI       61246.0\n",
       "PWD    4604479.0\n",
       "Name: SQUARE_FT, dtype: float64"
      ]
     },
     "execution_count": 29,
     "metadata": {},
     "output_type": "execute_result"
    }
   ],
   "source": [
    "df.groupby(\"PARCEL_ID_SOURCE\")[\"SQUARE_FT\"].max()"
   ]
  },
  {
   "cell_type": "code",
   "execution_count": 37,
   "id": "188627b9-e726-4d30-bfb9-b60a28db1f63",
   "metadata": {},
   "outputs": [
    {
     "data": {
      "text/plain": [
       "PARCEL_ID_SOURCE\n",
       "DOR    469018\n",
       "LI     532665\n",
       "PWD      8081\n",
       "Name: SQUARE_FT, dtype: int64"
      ]
     },
     "execution_count": 37,
     "metadata": {},
     "output_type": "execute_result"
    }
   ],
   "source": [
    "df.groupby(\"PARCEL_ID_SOURCE\")[[\"SQUARE_FT\"]]"
   ]
  },
  {
   "cell_type": "code",
   "execution_count": 38,
   "id": "ebfaa653-73e8-47a5-abe5-fa7a34222a39",
   "metadata": {},
   "outputs": [
    {
     "ename": "SyntaxError",
     "evalue": "invalid syntax (239966171.py, line 2)",
     "output_type": "error",
     "traceback": [
      "\u001b[1;36m  Cell \u001b[1;32mIn[38], line 2\u001b[1;36m\u001b[0m\n\u001b[1;33m    [*]]\u001b[0m\n\u001b[1;37m      ^\u001b[0m\n\u001b[1;31mSyntaxError\u001b[0m\u001b[1;31m:\u001b[0m invalid syntax\n"
     ]
    }
   ],
   "source": [
    "df.loc[df.groupby(\"PARCEL_ID_SOURCE\")[\"SQUARE_FT\"].idxmax(), \n",
    "       [*]]"
   ]
  },
  {
   "cell_type": "code",
   "execution_count": 41,
   "id": "f1126e2b-b3fa-448d-8c7a-b851b95b3a60",
   "metadata": {},
   "outputs": [],
   "source": [
    "idx = df.groupby(\"PARCEL_ID_SOURCE\")[\"SQUARE_FT\"].idxmax()\n",
    "\n",
    "# 用 loc 取出对应行和想要的列\n",
    "result = df.loc[idx, [\"PARCEL_ID_SOURCE\", \"SQUARE_FT\", \"ADDRESS\"]]\n",
    "\n",
    "# 如果需要按 PARCEL_ID_SOURCE 排序\n",
    "result = result.sort_values(\"PARCEL_ID_SOURCE\").reset_index(drop=True)"
   ]
  },
  {
   "cell_type": "code",
   "execution_count": 42,
   "id": "9f5e78d7-4ba8-4068-92b0-cca161d33822",
   "metadata": {},
   "outputs": [
    {
     "data": {
      "text/html": [
       "<div>\n",
       "<style scoped>\n",
       "    .dataframe tbody tr th:only-of-type {\n",
       "        vertical-align: middle;\n",
       "    }\n",
       "\n",
       "    .dataframe tbody tr th {\n",
       "        vertical-align: top;\n",
       "    }\n",
       "\n",
       "    .dataframe thead th {\n",
       "        text-align: right;\n",
       "    }\n",
       "</style>\n",
       "<table border=\"1\" class=\"dataframe\">\n",
       "  <thead>\n",
       "    <tr style=\"text-align: right;\">\n",
       "      <th></th>\n",
       "      <th>PARCEL_ID_SOURCE</th>\n",
       "      <th>SQUARE_FT</th>\n",
       "      <th>ADDRESS</th>\n",
       "    </tr>\n",
       "  </thead>\n",
       "  <tbody>\n",
       "    <tr>\n",
       "      <th>0</th>\n",
       "      <td>DOR</td>\n",
       "      <td>52112.0</td>\n",
       "      <td>NaN</td>\n",
       "    </tr>\n",
       "    <tr>\n",
       "      <th>1</th>\n",
       "      <td>LI</td>\n",
       "      <td>61246.0</td>\n",
       "      <td>5201 PARKSIDE AVE</td>\n",
       "    </tr>\n",
       "    <tr>\n",
       "      <th>2</th>\n",
       "      <td>PWD</td>\n",
       "      <td>4604479.0</td>\n",
       "      <td>3117 S CHRISTOPHER COLUMBUS BLVD</td>\n",
       "    </tr>\n",
       "  </tbody>\n",
       "</table>\n",
       "</div>"
      ],
      "text/plain": [
       "  PARCEL_ID_SOURCE  SQUARE_FT                           ADDRESS\n",
       "0              DOR    52112.0                               NaN\n",
       "1               LI    61246.0                 5201 PARKSIDE AVE\n",
       "2              PWD  4604479.0  3117 S CHRISTOPHER COLUMBUS BLVD"
      ]
     },
     "execution_count": 42,
     "metadata": {},
     "output_type": "execute_result"
    }
   ],
   "source": [
    "result"
   ]
  },
  {
   "cell_type": "code",
   "execution_count": 43,
   "id": "79a6635b-d0c1-4a70-a4c4-efec4918b3fa",
   "metadata": {},
   "outputs": [],
   "source": [
    "df.to_csv(\"export_with_volume.csv\", index=False)"
   ]
  },
  {
   "cell_type": "code",
   "execution_count": null,
   "id": "7b18987f-9cd6-4023-90d5-b83813459509",
   "metadata": {},
   "outputs": [],
   "source": []
  }
 ],
 "metadata": {
  "kernelspec": {
   "display_name": "Python 3 (ipykernel)",
   "language": "python",
   "name": "python3"
  },
  "language_info": {
   "codemirror_mode": {
    "name": "ipython",
    "version": 3
   },
   "file_extension": ".py",
   "mimetype": "text/x-python",
   "name": "python",
   "nbconvert_exporter": "python",
   "pygments_lexer": "ipython3",
   "version": "3.11.7"
  }
 },
 "nbformat": 4,
 "nbformat_minor": 5
}
